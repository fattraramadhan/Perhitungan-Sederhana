{
 "cells": [
  {
   "cell_type": "code",
   "execution_count": 1,
   "metadata": {},
   "outputs": [],
   "source": [
    "# Contoh perhitungan mencari volume tabung\n",
    "#Rumus volume tabung = π x r2 x t"
   ]
  },
  {
   "cell_type": "code",
   "execution_count": 2,
   "metadata": {},
   "outputs": [
    {
     "name": "stdout",
     "output_type": "stream",
     "text": [
      "Masukkan Bilangan phi3.14\n",
      "Masukkan Bilangan r10\n",
      "Masukkan Bilangan t15\n"
     ]
    }
   ],
   "source": [
    "# Meminta input dari data yang diketahui\n",
    "phi = input('Masukkan Bilangan phi')\n",
    "r = input('Masukkan Bilangan r')\n",
    "t = input('Masukkan Bilangan t')"
   ]
  },
  {
   "cell_type": "code",
   "execution_count": 3,
   "metadata": {},
   "outputs": [
    {
     "data": {
      "text/plain": [
       "4710.0"
      ]
     },
     "execution_count": 3,
     "metadata": {},
     "output_type": "execute_result"
    }
   ],
   "source": [
    "# Menghitung Volume Tabung dengan rumus\n",
    "volume_tabung = float(phi) * float(r) * float(r) * float(t)\n",
    "volume_tabung"
   ]
  },
  {
   "cell_type": "code",
   "execution_count": 4,
   "metadata": {},
   "outputs": [
    {
     "name": "stdout",
     "output_type": "stream",
     "text": [
      "Volume tabung adalah =  4710.0\n"
     ]
    }
   ],
   "source": [
    "# Menampilkan Volume Tabung\n",
    "print (\"Volume tabung adalah = \", volume_tabung)"
   ]
  }
 ],
 "metadata": {
  "kernelspec": {
   "display_name": "Python 3",
   "language": "python",
   "name": "python3"
  },
  "language_info": {
   "codemirror_mode": {
    "name": "ipython",
    "version": 3
   },
   "file_extension": ".py",
   "mimetype": "text/x-python",
   "name": "python",
   "nbconvert_exporter": "python",
   "pygments_lexer": "ipython3",
   "version": "3.7.6"
  }
 },
 "nbformat": 4,
 "nbformat_minor": 4
}
